{
  "nbformat": 4,
  "nbformat_minor": 0,
  "metadata": {
    "colab": {
      "provenance": [],
      "authorship_tag": "ABX9TyMJJG1nhWFO7BmHcRAj/zd6",
      "include_colab_link": true
    },
    "kernelspec": {
      "name": "python3",
      "display_name": "Python 3"
    },
    "language_info": {
      "name": "python"
    }
  },
  "cells": [
    {
      "cell_type": "markdown",
      "metadata": {
        "id": "view-in-github",
        "colab_type": "text"
      },
      "source": [
        "<a href=\"https://colab.research.google.com/github/wlstjwlstj/test/blob/main/22_2_Py_cen.ipynb\" target=\"_parent\"><img src=\"https://colab.research.google.com/assets/colab-badge.svg\" alt=\"Open In Colab\"/></a>"
      ]
    },
    {
      "cell_type": "markdown",
      "source": [
        "다음 보기의 사칙연산을 완성하시오. 한줄에 모두, 여러 줄로 나누어서, 보기좋게 정리."
      ],
      "metadata": {
        "id": "PeuNFb7jTh3l"
      }
    },
    {
      "cell_type": "code",
      "execution_count": 1,
      "metadata": {
        "colab": {
          "base_uri": "https://localhost:8080/"
        },
        "id": "TZVBjJz0ThDI",
        "outputId": "73b5f2d2-c005-43dd-9f86-9068d1444ca3"
      },
      "outputs": [
        {
          "output_type": "stream",
          "name": "stdout",
          "text": [
            "3 -1 12 1.0\n",
            "3\n",
            "-1\n",
            "12\n",
            "1.0\n"
          ]
        }
      ],
      "source": [
        "print( 1+2, 2-3, 3*4, 4/4)\n",
        "print(1+2)\n",
        "print(2-3)\n",
        "print(3*4)\n",
        "print(4/4)"
      ]
    },
    {
      "cell_type": "markdown",
      "source": [
        "20. 아래의 출력화면을 간결하고 보기좋게 코딩하시오.\n"
      ],
      "metadata": {
        "id": "RJdOeBzIU0s_"
      }
    },
    {
      "cell_type": "code",
      "source": [
        "print(\"*\" * 40)\n",
        "print(\"* 제1조 1항 대한민국은 민주공화국이다.* \" )\n",
        "print(\"*\" * 40)"
      ],
      "metadata": {
        "colab": {
          "base_uri": "https://localhost:8080/"
        },
        "id": "b4kv9G2rVRUl",
        "outputId": "a35926e7-2e6b-4e57-c5bc-f3aac7a3da8f"
      },
      "execution_count": 4,
      "outputs": [
        {
          "output_type": "stream",
          "name": "stdout",
          "text": [
            "****************************************\n",
            "* 제1조 1항 대한민국은 민주공화국이다.* \n",
            "****************************************\n"
          ]
        }
      ]
    },
    {
      "cell_type": "markdown",
      "source": [
        "21. 사용자에게 성명, 나이, 주소를 입력받아서 출력하라."
      ],
      "metadata": {
        "id": "je3zBV4TWOZ-"
      }
    },
    {
      "cell_type": "code",
      "source": [
        "name = input(\"이름을 입력하시오.\")\n",
        "age = input(\"나이를 입력하시오.\")\n",
        "addr = input(\"주소를 입력하시오.\")\n",
        "print(name)\n",
        "print(age)\n",
        "print(addr)\n",
        "print(name, age, addr)"
      ],
      "metadata": {
        "colab": {
          "base_uri": "https://localhost:8080/"
        },
        "id": "EqgJ3k-TWSwO",
        "outputId": "10dc6241-8179-4432-a01b-b6664766b7cd"
      },
      "execution_count": 5,
      "outputs": [
        {
          "output_type": "stream",
          "name": "stdout",
          "text": [
            "이름을 입력하시오.진서\n",
            "나이를 입력하시오.20\n",
            "주소를 입력하시오.전라북도 남원시 요천로 1300\n",
            "진서\n",
            "20\n",
            "전라북도 남원시 요천로 1300\n",
            "진서 20 전라북도 남원시 요천로 1300\n"
          ]
        }
      ]
    },
    {
      "cell_type": "markdown",
      "source": [
        "29. 아래의 보기와 같이 두 가지 방법을 코딩하시오."
      ],
      "metadata": {
        "id": "vVhZGwlhZuSp"
      }
    },
    {
      "cell_type": "code",
      "source": [
        "n1= input(\"첫번째 정수를 입력하시오.\")\n",
        "n2= input(\"두번째 정수를 입력하시오.\")\n",
        "print(\"두 합의 값은\" ,n1+n2, \"입니다.\")"
      ],
      "metadata": {
        "colab": {
          "base_uri": "https://localhost:8080/"
        },
        "id": "eRqnA4kBZ6Fi",
        "outputId": "b452c69f-3382-43b4-d770-5bedfe4def3f"
      },
      "execution_count": 6,
      "outputs": [
        {
          "output_type": "stream",
          "name": "stdout",
          "text": [
            "첫번째 정수를 입력하시오.100\n",
            "두번째 정수를 입력하시오.100\n",
            "두 합의 값은 100100 입니다.\n"
          ]
        }
      ]
    },
    {
      "cell_type": "code",
      "source": [
        "n1= int(input(\"첫번째 정수를 입력하시오:\"))\n",
        "n2= int(input(\"두번째 정수를 입력하시오:\"))\n",
        "print(\"두 합의 값은\" ,n1+n2, \"입니다.\")"
      ],
      "metadata": {
        "colab": {
          "base_uri": "https://localhost:8080/"
        },
        "id": "y9gkGJgubDLL",
        "outputId": "db37a47d-292c-4ab8-8b59-c874a5f5cf30"
      },
      "execution_count": 8,
      "outputs": [
        {
          "output_type": "stream",
          "name": "stdout",
          "text": [
            "첫번째 정수를 입력하시오:100\n",
            "두번째 정수를 입력하시오:100\n",
            "두 합의 값은 200 입니다.\n"
          ]
        }
      ]
    }
  ]
}